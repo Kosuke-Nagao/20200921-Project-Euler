{
 "cells": [
  {
   "cell_type": "code",
   "execution_count": 2,
   "metadata": {},
   "outputs": [
    {
     "name": "stdout",
     "output_type": "stream",
     "text": [
      "200 375 425\n",
      "31875000\n"
     ]
    }
   ],
   "source": [
    "# Problem 9\n",
    "'''\n",
    "A Pythagorean triplet is a set of three natural numbers, a < b < c for which,\n",
    "a**2 + b**2 = C**2\n",
    "For example, 3**2 + 4**2 = 9 + 16 = 25 = 5**2.\n",
    "There exists exactly one Pythagorean triplet for which a + b + c = 1000.\n",
    "Find the product abc.\n",
    "'''\n",
    "\n",
    "import math\n",
    "\n",
    "def multiplied_abc(target):\n",
    "    for a in range(1, target):\n",
    "        for b in range(a, target):\n",
    "            ab_square = a*a+b*b\n",
    "            c = target - a - b\n",
    "            if c <= b:\n",
    "                continue\n",
    "            if c*c == ab_square:\n",
    "                return(a, b, c)\n",
    "            \n",
    "target = 1000\n",
    "\n",
    "a, b, c = multiplied_abc(target)\n",
    "\n",
    "print(a, b, c)\n",
    "print(a*b*c)"
   ]
  }
 ],
 "metadata": {
  "kernelspec": {
   "display_name": "Python 3",
   "language": "python",
   "name": "python3"
  },
  "language_info": {
   "codemirror_mode": {
    "name": "ipython",
    "version": 3
   },
   "file_extension": ".py",
   "mimetype": "text/x-python",
   "name": "python",
   "nbconvert_exporter": "python",
   "pygments_lexer": "ipython3",
   "version": "3.8.3"
  }
 },
 "nbformat": 4,
 "nbformat_minor": 4
}
