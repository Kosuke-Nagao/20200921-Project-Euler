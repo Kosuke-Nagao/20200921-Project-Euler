{
 "cells": [
  {
   "cell_type": "code",
   "execution_count": 1,
   "metadata": {},
   "outputs": [
    {
     "name": "stdout",
     "output_type": "stream",
     "text": [
      "25164150\n"
     ]
    }
   ],
   "source": [
    "# Problem 6\n",
    "\n",
    "'''\n",
    "The sum of the squares of the first ten natural numbers is, \n",
    "1**2 + 2**2 + ... + 10**2 = 385\n",
    "The sqaure of the sum of the first ten natural numbers is,\n",
    "(1+2+ ... +10)**2 = 55**2 = 3025\n",
    "\n",
    "Hence the difference between the sum of the squares of the first ten natural \n",
    "numbers and the square of the sum is 3025 - 385 = 2640.\n",
    "\n",
    "Find the difference between the sum of the squares of the first one hundred\n",
    "natural numbers and the square of the sum. \n",
    "'''\n",
    "\n",
    "def sum_of_squares(largest):\n",
    "    total = 0\n",
    "    for i in range(largest+1):\n",
    "        total += i**2\n",
    "    return total\n",
    "    \n",
    "def square_of_sum(largest):\n",
    "    total = 0\n",
    "    for i in range(largest+1):\n",
    "        total += i\n",
    "    return total**2\n",
    "\n",
    "x1 = sum_of_squares(100)\n",
    "x2 = square_of_sum(100)\n",
    "\n",
    "print(x2-x1)"
   ]
  },
  {
   "cell_type": "code",
   "execution_count": null,
   "metadata": {},
   "outputs": [],
   "source": []
  }
 ],
 "metadata": {
  "kernelspec": {
   "display_name": "Python 3",
   "language": "python",
   "name": "python3"
  },
  "language_info": {
   "codemirror_mode": {
    "name": "ipython",
    "version": 3
   },
   "file_extension": ".py",
   "mimetype": "text/x-python",
   "name": "python",
   "nbconvert_exporter": "python",
   "pygments_lexer": "ipython3",
   "version": "3.8.3"
  }
 },
 "nbformat": 4,
 "nbformat_minor": 4
}
