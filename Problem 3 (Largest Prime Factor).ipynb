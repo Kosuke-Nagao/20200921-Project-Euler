{
 "cells": [
  {
   "cell_type": "code",
   "execution_count": 4,
   "metadata": {},
   "outputs": [
    {
     "name": "stdout",
     "output_type": "stream",
     "text": [
      "6857.0\n"
     ]
    }
   ],
   "source": [
    "# Problem 3\n",
    "\n",
    "# The prime factors of 13195 are 5, 7, 13 and 29.\n",
    "# What is the largetst prime factor of the number 600851475143 ?\n",
    "\n",
    "n = 600851475143\n",
    "i = 2\n",
    "\n",
    "while i * i < n:\n",
    "    while n % i == 0:\n",
    "        n /= i\n",
    "    i += 1\n",
    "    \n",
    "print(n)"
   ]
  }
 ],
 "metadata": {
  "kernelspec": {
   "display_name": "Python 3",
   "language": "python",
   "name": "python3"
  },
  "language_info": {
   "codemirror_mode": {
    "name": "ipython",
    "version": 3
   },
   "file_extension": ".py",
   "mimetype": "text/x-python",
   "name": "python",
   "nbconvert_exporter": "python",
   "pygments_lexer": "ipython3",
   "version": "3.8.3"
  }
 },
 "nbformat": 4,
 "nbformat_minor": 4
}
