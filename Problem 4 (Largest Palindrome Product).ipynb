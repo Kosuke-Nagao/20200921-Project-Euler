{
 "cells": [
  {
   "cell_type": "code",
   "execution_count": 1,
   "metadata": {},
   "outputs": [
    {
     "name": "stdout",
     "output_type": "stream",
     "text": [
      "906609\n"
     ]
    }
   ],
   "source": [
    "# A palindromic number reads the same both ways. The largest palindrome made from the product of\n",
    "# two 2-digit numbers is 9009 = 91 * 99.\n",
    "# Find the largest palindrome made from the product of two 3-digit numbers.\n",
    "\n",
    "def is_palindrome(i):\n",
    "    return str(i) == str(i)[::-1]\n",
    "\n",
    "largest_product = 0\n",
    "for i in range(100, 999):\n",
    "    for j in range(i+1, 1000):\n",
    "        p = i * j\n",
    "        if is_palindrome(p) and p > largest_product:\n",
    "            largest_product = p\n",
    "            \n",
    "print(largest_product)"
   ]
  },
  {
   "cell_type": "code",
   "execution_count": null,
   "metadata": {},
   "outputs": [],
   "source": []
  }
 ],
 "metadata": {
  "kernelspec": {
   "display_name": "Python 3",
   "language": "python",
   "name": "python3"
  },
  "language_info": {
   "codemirror_mode": {
    "name": "ipython",
    "version": 3
   },
   "file_extension": ".py",
   "mimetype": "text/x-python",
   "name": "python",
   "nbconvert_exporter": "python",
   "pygments_lexer": "ipython3",
   "version": "3.8.3"
  }
 },
 "nbformat": 4,
 "nbformat_minor": 4
}
