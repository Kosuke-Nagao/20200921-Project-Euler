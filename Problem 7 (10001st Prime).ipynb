{
 "cells": [
  {
   "cell_type": "code",
   "execution_count": null,
   "metadata": {},
   "outputs": [
    {
     "name": "stdout",
     "output_type": "stream",
     "text": [
      "104743\n"
     ]
    }
   ],
   "source": [
    "# Problem 7\n",
    "'''\n",
    "By listing the first six prime numbers: 2,3,5,7,11 and 13, we can see\n",
    "the 6th prime is 13.\n",
    "What is the 10001st prime number?\n",
    "'''\n",
    "\n",
    "def prime(n):\n",
    "    val = True\n",
    "    for i in range(2,n):\n",
    "        if n % i == 0:\n",
    "            return False\n",
    "    else :\n",
    "            return True\n",
    "            \n",
    "prime_num = 0\n",
    "a = 2\n",
    "while True:\n",
    "    if prime(a):\n",
    "        prime_num += 1\n",
    "        if prime_num == 10001:\n",
    "            print(a)\n",
    "    a += 1"
   ]
  }
 ],
 "metadata": {
  "kernelspec": {
   "display_name": "Python 3",
   "language": "python",
   "name": "python3"
  },
  "language_info": {
   "codemirror_mode": {
    "name": "ipython",
    "version": 3
   },
   "file_extension": ".py",
   "mimetype": "text/x-python",
   "name": "python",
   "nbconvert_exporter": "python",
   "pygments_lexer": "ipython3",
   "version": "3.8.3"
  }
 },
 "nbformat": 4,
 "nbformat_minor": 4
}
