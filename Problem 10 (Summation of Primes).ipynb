{
 "cells": [
  {
   "cell_type": "code",
   "execution_count": 1,
   "metadata": {},
   "outputs": [
    {
     "name": "stdout",
     "output_type": "stream",
     "text": [
      "142913828922\n"
     ]
    }
   ],
   "source": [
    "# Problem 10\n",
    "'''\n",
    "The sum of the primes below 10 is 2 + 3 + 5 + 7 = 17.\n",
    "Find the sum of all the primes below two million.\n",
    "'''\n",
    "\n",
    "limit = 2000000     # limit\n",
    "is_all_the_primes = [True] * limit\n",
    "\n",
    "\n",
    "def prime_sieve(all_the_primes):\n",
    "    for i in range(2, len(all_the_primes)):\n",
    "        if all_the_primes[i]:\n",
    "            k = i + i\n",
    "            while k < len(all_the_primes):\n",
    "                all_the_primes[k] = False\n",
    "                k += i\n",
    "                \n",
    "prime_sieve(is_all_the_primes)\n",
    "the_sum = 0\n",
    "for i in range(2, limit):\n",
    "    if is_all_the_primes[i]:\n",
    "        the_sum += i\n",
    "        \n",
    "print(the_sum)"
   ]
  }
 ],
 "metadata": {
  "kernelspec": {
   "display_name": "Python 3",
   "language": "python",
   "name": "python3"
  },
  "language_info": {
   "codemirror_mode": {
    "name": "ipython",
    "version": 3
   },
   "file_extension": ".py",
   "mimetype": "text/x-python",
   "name": "python",
   "nbconvert_exporter": "python",
   "pygments_lexer": "ipython3",
   "version": "3.8.3"
  }
 },
 "nbformat": 4,
 "nbformat_minor": 4
}
